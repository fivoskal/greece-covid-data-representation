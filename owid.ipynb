{
 "cells": [
  {
   "cell_type": "code",
   "execution_count": 1,
   "metadata": {},
   "outputs": [],
   "source": [
    "import numpy as np\n",
    "import matplotlib.pyplot as plt\n",
    "import seaborn as sns\n",
    "import pandas as pd"
   ]
  },
  {
   "cell_type": "markdown",
   "metadata": {},
   "source": [
    "# Data\n",
    "The data were drawn from https://ourworldindata.org/ which were in turn drawn from various official Greek sources.\n",
    "Their coronavirus dataset is freely available in https://github.com/owid/covid-19-data/tree/master/public/data."
   ]
  },
  {
   "cell_type": "code",
   "execution_count": null,
   "metadata": {},
   "outputs": [
    {
     "name": "stdout",
     "output_type": "stream",
     "text": [
      "--2020-12-20 14:56:08--  https://raw.githubusercontent.com/owid/covid-19-data/master/public/data/owid-covid-data.csv\n",
      "Resolving raw.githubusercontent.com (raw.githubusercontent.com)... 151.101.16.133\n",
      "Connecting to raw.githubusercontent.com (raw.githubusercontent.com)|151.101.16.133|:443... connected.\n",
      "HTTP request sent, awaiting response... "
     ]
    }
   ],
   "source": [
    "!wget https://raw.githubusercontent.com/owid/covid-19-data/master/public/data/owid-covid-data.csv"
   ]
  },
  {
   "cell_type": "markdown",
   "metadata": {},
   "source": [
    "# Take a look at the dataset"
   ]
  },
  {
   "cell_type": "code",
   "execution_count": null,
   "metadata": {},
   "outputs": [],
   "source": [
    "path = \"owid-covid-data.csv\"\n",
    "df = pd.read_csv(path)\n",
    "df.columns"
   ]
  },
  {
   "cell_type": "code",
   "execution_count": null,
   "metadata": {},
   "outputs": [],
   "source": [
    "gr = df.loc[ df[\"location\"] == \"Greece\" ]"
   ]
  },
  {
   "cell_type": "code",
   "execution_count": null,
   "metadata": {},
   "outputs": [],
   "source": [
    "with pd.option_context('display.max_rows', 50, 'display.max_columns', 60):\n",
    "    display(gr)"
   ]
  },
  {
   "cell_type": "code",
   "execution_count": null,
   "metadata": {},
   "outputs": [],
   "source": [
    "with pd.option_context('display.max_rows', 50, 'display.max_columns', 60):\n",
    "    display(gr[[\"location\", \"date\", \"new_tests\", \"total_tests\", \"new_cases_smoothed\"]]) #need display to show the dataframe when using with in jupyter"
   ]
  },
  {
   "cell_type": "code",
   "execution_count": null,
   "metadata": {},
   "outputs": [],
   "source": [
    "inf_gr = gr[[\"date\", \"new_tests\", \"total_tests\", \"new_cases\"]].copy()"
   ]
  },
  {
   "cell_type": "markdown",
   "metadata": {},
   "source": [
    "# Inference\n",
    "There appear to be missing data both in the \"new_tests\" columns and in the \"total_tests\" columns. We use the \"total_tests\" column to infer \"new_tests\". Between two dates that do have a report of the cumulative number of tests, we assume a uniform distribution of the difference of the tests between those two dates."
   ]
  },
  {
   "cell_type": "code",
   "execution_count": null,
   "metadata": {},
   "outputs": [],
   "source": [
    "num_tests = [] \n",
    "k = 0\n",
    "last = 0\n",
    "s = 0\n",
    "for total in inf_gr[\"total_tests\"]:\n",
    "    if np.isnan(total):\n",
    "        k += 1\n",
    "    else:\n",
    "        k += 1\n",
    "        new = []\n",
    "        new = [ (total - last) /(k) ] * (k)\n",
    "        s += ((total - last) /(k)) * k\n",
    "        num_tests.extend(new)\n",
    "        last = total\n",
    "        k = 0\n",
    "if k != 0:\n",
    "    num_tests.extend([np.nan]*k)"
   ]
  },
  {
   "cell_type": "code",
   "execution_count": null,
   "metadata": {},
   "outputs": [],
   "source": [
    "len(inf_gr[\"new_tests\"])"
   ]
  },
  {
   "cell_type": "code",
   "execution_count": null,
   "metadata": {},
   "outputs": [],
   "source": [
    "inf_gr[\"new_tests\"] = num_tests"
   ]
  },
  {
   "cell_type": "code",
   "execution_count": null,
   "metadata": {},
   "outputs": [],
   "source": [
    "import numpy as np\n",
    "from scipy.signal import find_peaks\n",
    "\n",
    "tests = np.array(num_tests)\n",
    "argpeaks, _ = find_peaks(tests, height=30000)\n",
    "peaks = tests[argpeaks]\n",
    "print(\"Extreme peaks were found for the dates:\")\n",
    "print(inf_gr[\"date\"].array[argpeaks])"
   ]
  },
  {
   "cell_type": "code",
   "execution_count": null,
   "metadata": {},
   "outputs": [],
   "source": [
    "fig, ax = plt.subplots(figsize=(15,7))\n",
    "g = sns.lineplot(data=inf_gr, x=\"date\", y=\"new_tests\")\n",
    "g.set(xticks=[ i for i in range(len(inf_gr)) if i%30==0] )\n",
    "g.scatter(argpeaks, peaks, marker='x', color='orange', s=100)\n",
    "plt.title(\"Infered number of tests each day & \\n7 day rolling average of tests each day\")\n",
    "\n",
    "inf_gr [\"7d_rolling_tests\"] = inf_gr.new_tests.rolling(7).mean().shift(-3)\n",
    "\n",
    "g = sns.lineplot(data=inf_gr, x=\"date\", y=\"7d_rolling_tests\", color='red', ax=ax)\n",
    "g.legend([\"new tests each day\", \"rolling 7 day average\", \"peaks\"])"
   ]
  },
  {
   "cell_type": "code",
   "execution_count": null,
   "metadata": {},
   "outputs": [],
   "source": [
    "inf_gr [\"7d_rolling_cases\"] = inf_gr.new_cases.rolling(7).mean().shift(-3)\n",
    "plt.figure(figsize=(15,7))\n",
    "\n",
    "g = sns.lineplot(data=inf_gr, x=\"date\", y=\"7d_rolling_cases\")\n",
    "g.set(xticks=[ i for i in range(len(inf_gr)) if i%30==0] )\n",
    "plt.title(\"7 day rolling average of new cases each day\")\n",
    "g.legend([\"rolling 7 day average new cases\"])"
   ]
  },
  {
   "cell_type": "code",
   "execution_count": null,
   "metadata": {},
   "outputs": [],
   "source": [
    "inf_gr[\"cases_tests_ratio\"] = np.array(inf_gr[\"new_cases\"].array) / np.array(inf_gr[\"new_tests\"].array)\n",
    "\n",
    "\n",
    "fig, ax = plt.subplots(figsize=(15,7))\n",
    "g = sns.lineplot(data=inf_gr, x=\"date\", y=\"cases_tests_ratio\")\n",
    "g.set(xticks=[ i for i in range(len(inf_gr)) if i%30==0] )\n",
    "plt.title(\"Infered ratio of cases to new tests each day & \\n7 day rolling average of the c-to-t ratio\")\n",
    "\n",
    "inf_gr [\"7d_rolling_ctr\"] = inf_gr.cases_tests_ratio.rolling(7).mean().shift(-3)\n",
    "\n",
    "g = sns.lineplot(data=inf_gr, x=\"date\", y=\"7d_rolling_ctr\", color='red', ax=ax)\n",
    "g.legend([\"daily cases-to-tests ratio\", \"rolling 7 day average of c-t-r\"])"
   ]
  },
  {
   "cell_type": "markdown",
   "metadata": {},
   "source": [
    "# Visualizing curves with different range\n",
    "In order to visualize the curves of \"new cases\" and \"new tests\" and the curves of \"7 day rolling average of cases\" and \"7 day rolling average of tests\" in a way that would make comparison rather easy, the latter curve is scaled by means of normalizing the given curve and then multiplying the normalized values with the standard deviation of the former curve and adding its mean value."
   ]
  },
  {
   "cell_type": "code",
   "execution_count": null,
   "metadata": {},
   "outputs": [],
   "source": [
    "temp = np.array(inf_gr[\"new_cases\"].array) / np.array(inf_gr[\"new_tests\"].array)\n",
    "temp = (temp - np.nanmean(temp)) / np.nanstd(temp)\n",
    "temp = temp * np.nanstd(np.array(inf_gr[\"new_tests\"].array)  )+ np.nanmean(np.array(inf_gr[\"new_tests\"].array) )\n",
    "inf_gr[\"scaled_ctr\"] = temp\n",
    "                                                                   \n",
    "plt.figure(figsize=(15,7))\n",
    "fig, ax = plt.subplots(figsize=(15,7))\n",
    "g = sns.lineplot(data=inf_gr, x=\"date\", y=\"new_tests\", ax=ax)\n",
    "g = sns.lineplot(data=inf_gr, x=\"date\", y=\"scaled_ctr\", ax=ax)\n",
    "# g.plot(temp)\n",
    "g.set(xticks=[ i for i in range(len(inf_gr)) if i%30==0] )\n",
    "g.legend([\"New Tests\", \"Scaled case to test ratio\"])\n",
    "plt.title(\"Scaled ratio of tests to new cases each day over new daily new cases\")\n",
    "\n",
    "## moving average\n",
    "temp = np.array(inf_gr[\"7d_rolling_cases\"].array) / np.array(inf_gr[\"7d_rolling_tests\"].array)\n",
    "temp = (temp - np.nanmean(temp)) / np.nanstd(temp)\n",
    "temp = temp * np.nanstd(np.array(inf_gr[\"7d_rolling_tests\"].array)  )+ np.nanmean(np.array(inf_gr[\"7d_rolling_tests\"].array) )\n",
    "inf_gr[\"7d_rolling_scaled_ctr\"] = temp\n",
    "                                                                   \n",
    "fig, ax = plt.subplots(figsize=(15,7))\n",
    "g = sns.lineplot(data=inf_gr, x=\"date\", y=\"7d_rolling_tests\", ax=ax)\n",
    "g = sns.lineplot(data=inf_gr, x=\"date\", y=\"7d_rolling_scaled_ctr\", ax=ax)\n",
    "\n",
    "g.set(xticks=[ i for i in range(len(inf_gr)) if i%30==0] )\n",
    "g.legend([\"7d m.a. New Tests\", \"7d m.a. Scaled case to test ratio\"])\n",
    "plt.title(\"Scaled ratio of tests to new cases each day over new daily new cases\")"
   ]
  }
 ],
 "metadata": {
  "kernelspec": {
   "display_name": "Python 3",
   "language": "python",
   "name": "python3"
  },
  "language_info": {
   "codemirror_mode": {
    "name": "ipython",
    "version": 3
   },
   "file_extension": ".py",
   "mimetype": "text/x-python",
   "name": "python",
   "nbconvert_exporter": "python",
   "pygments_lexer": "ipython3",
   "version": "3.8.3"
  }
 },
 "nbformat": 4,
 "nbformat_minor": 4
}
